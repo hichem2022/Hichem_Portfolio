{
  "nbformat": 4,
  "nbformat_minor": 0,
  "metadata": {
    "colab": {
      "provenance": [],
      "authorship_tag": "ABX9TyM2w4HUkhElG0Fu4rni59eZ",
      "include_colab_link": true
    },
    "kernelspec": {
      "name": "python3",
      "display_name": "Python 3"
    },
    "language_info": {
      "name": "python"
    }
  },
  "cells": [
    {
      "cell_type": "markdown",
      "metadata": {
        "id": "view-in-github",
        "colab_type": "text"
      },
      "source": [
        "<a href=\"https://colab.research.google.com/github/hichem2022/Hichem_Portfolio/blob/main/Data%20Science%20Notebook.ipynb\" target=\"_parent\"><img src=\"https://colab.research.google.com/assets/colab-badge.svg\" alt=\"Open In Colab\"/></a>"
      ]
    },
    {
      "cell_type": "markdown",
      "source": [
        "# Data Science Notebook\n"
      ],
      "metadata": {
        "id": "bVFRbllE461e"
      }
    },
    {
      "cell_type": "markdown",
      "source": [
        "## Introduction\n",
        "\n",
        "Welcome to this data science notebook! In this notebook, we will explore various concepts related to data science and practice using different tools and techniques."
      ],
      "metadata": {
        "id": "4zLCYDIu5BpN"
      }
    },
    {
      "cell_type": "markdown",
      "source": [
        "## Data Science Languages\n",
        "\n",
        "- Python\n",
        "- R\n",
        "- Julia\n",
        "- SQL"
      ],
      "metadata": {
        "id": "FHOlGBox5Lwh"
      }
    },
    {
      "cell_type": "markdown",
      "source": [
        "## Data Science Libraries\n",
        "\n",
        "- Pandas\n",
        "- NumPy\n",
        "- Scikit-learn\n",
        "- TensorFlow\n",
        "- Matplotlib\n",
        "- Seaborn"
      ],
      "metadata": {
        "id": "hQL69c1r5Or3"
      }
    },
    {
      "cell_type": "markdown",
      "source": [
        "## Data Science Tools\n",
        "\n",
        "| Category           | Tools                       |\n",
        "|--------------------|-----------------------------|\n",
        "| Programming        | Python, R, Julia, SQL       |\n",
        "| Data Manipulation  | Pandas, NumPy, Dplyr        |\n",
        "| Machine Learning   | Scikit-learn, TensorFlow    |\n",
        "| Visualization      | Matplotlib, Seaborn, Plotly |\n"
      ],
      "metadata": {
        "id": "sm6Fdc445RsZ"
      }
    },
    {
      "cell_type": "markdown",
      "source": [
        "## Arithmetic Expression Examples\n",
        "\n",
        "In the following examples, we'll explore some basic arithmetic operations using numbers.\n"
      ],
      "metadata": {
        "id": "iL_5mmx-5V_y"
      }
    },
    {
      "cell_type": "code",
      "source": [
        "# Multiplication\n",
        "result_mul = 5 * 10\n",
        "\n",
        "# Addition\n",
        "result_add = 5 + 10\n",
        "\n",
        "print(\"Multiplication:\", result_mul)\n",
        "print(\"Addition:\", result_add)"
      ],
      "metadata": {
        "colab": {
          "base_uri": "https://localhost:8080/"
        },
        "id": "2hnX8J5M45dp",
        "outputId": "6826fc20-01fa-4adf-810e-992f873934a0"
      },
      "execution_count": 1,
      "outputs": [
        {
          "output_type": "stream",
          "name": "stdout",
          "text": [
            "Multiplication: 50\n",
            "Addition: 15\n"
          ]
        }
      ]
    },
    {
      "cell_type": "code",
      "source": [
        "# Conversion from minutes to hours\n",
        "minutes = 120\n",
        "hours = minutes / 60\n",
        "\n",
        "print(\"120 minutes =\", hours, \"hours\")\n"
      ],
      "metadata": {
        "colab": {
          "base_uri": "https://localhost:8080/"
        },
        "id": "vQAOe4_l5cqz",
        "outputId": "9f2300c2-f5ef-4271-b5cb-9c059323933f"
      },
      "execution_count": 2,
      "outputs": [
        {
          "output_type": "stream",
          "name": "stdout",
          "text": [
            "120 minutes = 2.0 hours\n"
          ]
        }
      ]
    },
    {
      "cell_type": "markdown",
      "source": [
        "## Objectives\n",
        "\n",
        "- Explore data science languages and libraries\n",
        "- Perform basic arithmetic operations\n",
        "- Practice using code and markdown cells\n",
        "- Learn how to share notebooks on GitHub\n"
      ],
      "metadata": {
        "id": "EEz4iTMS5gzU"
      }
    },
    {
      "cell_type": "markdown",
      "source": [
        "## Author\n",
        "\n",
        "This notebook was created by Ahmed Hichem Ghemari\n"
      ],
      "metadata": {
        "id": "3T7HK-6p5nQV"
      }
    }
  ]
}